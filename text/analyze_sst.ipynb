{
 "cells": [
  {
   "cell_type": "markdown",
   "metadata": {},
   "source": [
    "Looking at a decoy SST dataset - for training data, a word indicating the class (positive or negative) was inserted into the sentences. "
   ]
  },
  {
   "cell_type": "code",
   "execution_count": 1,
   "metadata": {},
   "outputs": [],
   "source": [
    "import os\n",
    "from os.path import join as oj\n",
    "import sys, time\n",
    "import numpy as np\n",
    "import matplotlib.pyplot as plt\n",
    "import pickle as pkl\n",
    "import pandas as pd\n",
    "import seaborn as sns\n",
    "sns.set()\n",
    "%matplotlib inline"
   ]
  },
  {
   "cell_type": "code",
   "execution_count": 2,
   "metadata": {},
   "outputs": [
    {
     "ename": "FileNotFoundError",
     "evalue": "[WinError 3] Das System kann den angegebenen Pfad nicht finden: '../models/SST'",
     "output_type": "error",
     "traceback": [
      "\u001b[1;31m---------------------------------------------------------------------------\u001b[0m",
      "\u001b[1;31mFileNotFoundError\u001b[0m                         Traceback (most recent call last)",
      "Cell \u001b[1;32mIn[2], line 2\u001b[0m\n\u001b[0;32m      1\u001b[0m trained_model_folder \u001b[38;5;241m=\u001b[39m \u001b[38;5;124m'\u001b[39m\u001b[38;5;124m../models/SST\u001b[39m\u001b[38;5;124m'\u001b[39m\n\u001b[1;32m----> 2\u001b[0m fnames \u001b[38;5;241m=\u001b[39m \u001b[38;5;28msorted\u001b[39m([oj(trained_model_folder, fname) \u001b[38;5;28;01mfor\u001b[39;00m fname \u001b[38;5;129;01min\u001b[39;00m \u001b[43mos\u001b[49m\u001b[38;5;241;43m.\u001b[39;49m\u001b[43mlistdir\u001b[49m\u001b[43m(\u001b[49m\u001b[43mtrained_model_folder\u001b[49m\u001b[43m)\u001b[49m]) \n\u001b[0;32m      3\u001b[0m results_list \u001b[38;5;241m=\u001b[39m [pd\u001b[38;5;241m.\u001b[39mSeries(pkl\u001b[38;5;241m.\u001b[39mload(\u001b[38;5;28mopen\u001b[39m(fname, \u001b[38;5;124m\"\u001b[39m\u001b[38;5;124mrb\u001b[39m\u001b[38;5;124m\"\u001b[39m))) \u001b[38;5;28;01mfor\u001b[39;00m fname \u001b[38;5;129;01min\u001b[39;00m (fnames)] \n\u001b[0;32m      4\u001b[0m results \u001b[38;5;241m=\u001b[39m pd\u001b[38;5;241m.\u001b[39mconcat(results_list, axis\u001b[38;5;241m=\u001b[39m\u001b[38;5;241m1\u001b[39m)\u001b[38;5;241m.\u001b[39mT\u001b[38;5;241m.\u001b[39minfer_objects()\n",
      "\u001b[1;31mFileNotFoundError\u001b[0m: [WinError 3] Das System kann den angegebenen Pfad nicht finden: '../models/SST'"
     ]
    }
   ],
   "source": [
    "trained_model_folder = '../models/SST'\n",
    "fnames = sorted([oj(trained_model_folder, fname) for fname in os.listdir(trained_model_folder)]) \n",
    "results_list = [pd.Series(pkl.load(open(fname, \"rb\"))) for fname in (fnames)] \n",
    "results = pd.concat(results_list, axis=1).T.infer_objects()"
   ]
  },
  {
   "cell_type": "code",
   "execution_count": null,
   "metadata": {},
   "outputs": [],
   "source": [
    "results[\"Test Accuracy\"] = [(x.item()) for x in results[\"test_acc\"]] \n",
    "results[\"Val Accuracy\"] = [(max(x)) for x in results[\"accs_val\"]] \n",
    "results[\"final_cd\"] = [min(x) for x in results[\"explanation_divergence\"]]\n",
    "results[\"final_val_loss\"] = [min(x[:5]) for x in results[\"losses_val\"]]\n",
    "results[\"final_train_loss\"] = [x[-1] for x in results[\"losses_train\"]]\n",
    "results = results.round(decimals =0)"
   ]
  },
  {
   "cell_type": "code",
   "execution_count": null,
   "metadata": {},
   "outputs": [],
   "source": [
    "concise_out = results[['signal_strength','bias','Val Accuracy',  'Test Accuracy']].groupby(by = ['bias','signal_strength']).mean()\n",
    "concise_out"
   ]
  },
  {
   "cell_type": "code",
   "execution_count": null,
   "metadata": {},
   "outputs": [],
   "source": [
    "fig, axs = plt.subplots(ncols = 3, figsize = (15,5))\n",
    "sns.lineplot(x ='signal_strength' , y='Test Accuracy', data = results[results.bias == \"Decoy\"] , ax = axs[0] );\n",
    "sns.lineplot(x ='signal_strength' , y='Test Accuracy', data = results[results.bias == \"bias\"]   , ax = axs[1]);\n",
    "sns.lineplot(x ='signal_strength' , y='Test Accuracy', data = results[results.bias == \"Genderbias\"]   , ax = axs[2]);\n",
    "axs[0].set_title(\"Decoy\")\n",
    "axs[1].set_title(\"Article\")\n",
    "axs[2].set_title(\"Genderbias\")\n",
    "plt.ylim(50, 85)\n",
    "# fig.set_xlabel(\"Regularization strength\")\n",
    "axs[0].set_ylabel(\"Test Accuracy\")\n",
    "# fig.set_title(\"Regularizing with cd explanations\");\n"
   ]
  },
  {
   "cell_type": "code",
   "execution_count": null,
   "metadata": {},
   "outputs": [],
   "source": []
  }
 ],
 "metadata": {
  "kernelspec": {
   "display_name": "Python 3 (ipykernel)",
   "language": "python",
   "name": "python3"
  },
  "language_info": {
   "codemirror_mode": {
    "name": "ipython",
    "version": 3
   },
   "file_extension": ".py",
   "mimetype": "text/x-python",
   "name": "python",
   "nbconvert_exporter": "python",
   "pygments_lexer": "ipython3",
   "version": "3.12.1"
  }
 },
 "nbformat": 4,
 "nbformat_minor": 4
}
