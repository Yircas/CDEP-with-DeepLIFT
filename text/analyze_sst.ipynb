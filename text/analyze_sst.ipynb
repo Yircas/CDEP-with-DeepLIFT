{
 "cells": [
  {
   "cell_type": "markdown",
   "metadata": {},
   "source": [
    "Looking at a decoy SST dataset - for training data, a word indicating the class (positive or negative) was inserted into the sentences. "
   ]
  },
  {
   "cell_type": "code",
   "execution_count": null,
   "metadata": {},
   "outputs": [],
   "source": [
    "import os\n",
    "from os.path import join as oj\n",
    "import sys, time\n",
    "import numpy as np\n",
    "import matplotlib.pyplot as plt\n",
    "import pickle as pkl\n",
    "import pandas as pd\n",
    "import seaborn as sns\n",
    "sns.set()\n",
    "%matplotlib inline"
   ]
  },
  {
   "cell_type": "code",
   "execution_count": null,
   "metadata": {},
   "outputs": [],
   "source": [
    "trained_model_folder = '../models/SST'\n",
    "fnames = sorted([oj(trained_model_folder, fname) for fname in os.listdir(trained_model_folder)]) \n",
    "results_list = [pd.Series(pkl.load(open(fname, \"rb\"))) for fname in (fnames)] \n",
    "results = pd.concat(results_list, axis=1).T.infer_objects()"
   ]
  },
  {
   "cell_type": "code",
   "execution_count": null,
   "metadata": {},
   "outputs": [],
   "source": [
    "results[\"Test Accuracy\"] = [(x.item()) for x in results[\"test_acc\"]] \n",
    "results[\"Val Accuracy\"] = [(max(x)) for x in results[\"accs_val\"]] \n",
    "results[\"final_cd\"] = [min(x) for x in results[\"explanation_divergence\"]]\n",
    "results[\"final_val_loss\"] = [min(x[:5]) for x in results[\"losses_val\"]]\n",
    "results[\"final_train_loss\"] = [x[-1] for x in results[\"losses_train\"]]\n",
    "results = results.round(decimals =0)"
   ]
  },
  {
   "cell_type": "code",
   "execution_count": null,
   "metadata": {},
   "outputs": [],
   "source": [
    "concise_out = results[['signal_strength','bias','Val Accuracy',  'Test Accuracy']].groupby(by = ['bias','signal_strength']).mean()\n",
    "concise_out"
   ]
  },
  {
   "cell_type": "code",
   "execution_count": null,
   "metadata": {},
   "outputs": [],
   "source": [
    "fig, axs = plt.subplots(ncols = 3, figsize = (15,5))\n",
    "sns.lineplot(x ='signal_strength' , y='Test Accuracy', data = results[results.bias == \"Decoy\"] , ax = axs[0] );\n",
    "sns.lineplot(x ='signal_strength' , y='Test Accuracy', data = results[results.bias == \"bias\"]   , ax = axs[1]);\n",
    "sns.lineplot(x ='signal_strength' , y='Test Accuracy', data = results[results.bias == \"Genderbias\"]   , ax = axs[2]);\n",
    "axs[0].set_title(\"Decoy\")\n",
    "axs[1].set_title(\"Article\")\n",
    "axs[2].set_title(\"Genderbias\")\n",
    "plt.ylim(50, 85)\n",
    "# fig.set_xlabel(\"Regularization strength\")\n",
    "axs[0].set_ylabel(\"Test Accuracy\")\n",
    "# fig.set_title(\"Regularizing with cd explanations\");\n"
   ]
  },
  {
   "cell_type": "code",
   "execution_count": null,
   "metadata": {},
   "outputs": [],
   "source": []
  }
 ],
 "metadata": {
  "kernelspec": {
   "display_name": "Python 3",
   "language": "python",
   "name": "python3"
  },
  "language_info": {
   "codemirror_mode": {
    "name": "ipython",
    "version": 3
   },
   "file_extension": ".py",
   "mimetype": "text/x-python",
   "name": "python",
   "nbconvert_exporter": "python",
   "pygments_lexer": "ipython3",
   "version": "3.6.10"
  }
 },
 "nbformat": 4,
 "nbformat_minor": 2
}
