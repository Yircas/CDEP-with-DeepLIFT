{
 "cells": [
  {
   "cell_type": "markdown",
   "metadata": {},
   "source": [
    "To show this demo, first run\n",
    "\n",
    "code/ColorMNIST/00_make_data.py\n",
    "\n",
    "to create the biased MNIST dataset"
   ]
  },
  {
   "cell_type": "code",
   "execution_count": 1,
   "metadata": {},
   "outputs": [],
   "source": [
    "\n",
    "import sys\n",
    "import numpy as np\n",
    "\n",
    "import pickle as pkl\n",
    "import torch\n",
    "from os.path import join as oj\n",
    "%matplotlib inline\n",
    "%load_ext autoreload\n",
    "%autoreload 2\n",
    "import os\n",
    "from os.path import join as oj\n",
    "import torch.utils.data as utils\n",
    "import sys, time\n",
    "import pickle as pkl\n",
    "import pandas as pd\n",
    "import seaborn as sns\n",
    "import matplotlib.pyplot as plt\n",
    "import numpy as np\n",
    "pd.set_option('display.precision', 3)"
   ]
  },
  {
   "cell_type": "code",
   "execution_count": 2,
   "metadata": {},
   "outputs": [],
   "source": [
    "save_path = \"../results_for_export\"\n",
    "x_train = np.load(oj(\"../data/ColorMNIST\", \"train_x.npy\"))/255.0\n",
    "y_train = np.load(oj(\"../data/ColorMNIST\", \"train_y.npy\"))\n",
    "x_test = np.load(oj(\"../data/ColorMNIST\", \"test_x.npy\"))/255.0\n",
    "y_test = np.load(oj(\"../data/ColorMNIST\", \"test_y.npy\"))"
   ]
  },
  {
   "cell_type": "code",
   "execution_count": 3,
   "metadata": {},
   "outputs": [
    {
     "data": {
      "text/plain": [
       "Text(0, 0.5, 'Test')"
      ]
     },
     "execution_count": 3,
     "metadata": {},
     "output_type": "execute_result"
    },
    {
     "data": {
      "image/png": "[encoded data removed]",
      "text/plain": [
       "<Figure size 2000x400 with 2 Axes>"
      ]
     },
     "metadata": {},
     "output_type": "display_data"
    }
   ],
   "source": [
    "fig, axes = plt.subplots(nrows= 2, figsize = (20, 4))\n",
    "indices = []\n",
    "for i in range(10):\n",
    "    indices.append(np.where(y_train ==i)[0][0])\n",
    "ex_imgs = np.hstack(x_train[np.asarray(indices)].swapaxes(1,3).swapaxes(1,2)) \n",
    "axes[0].imshow(ex_imgs);\n",
    "axes[0].set_ylabel(\"Training\", fontsize = 25)\n",
    "indices = []\n",
    "for i in range(10):\n",
    "    indices.append(np.where(y_test ==i)[0][0])\n",
    "ex_imgs = np.hstack(x_test[np.asarray(indices)].swapaxes(1,3).swapaxes(1,2)) \n",
    "axes[1].imshow(ex_imgs);\n",
    "axes[1].set_xticks([])\n",
    "axes[1].set_yticks([])\n",
    "axes[0].set_xticks([])\n",
    "axes[0].set_yticks([])\n",
    "axes[1].set_ylabel(\"Test\", fontsize = 25)\n",
    "# fig.savefig(oj(save_path, \"ColorMNIST_examples\"))\n"
   ]
  },
  {
   "cell_type": "markdown",
   "metadata": {},
   "source": [
    "Now we train a neural network with and without CDEP on this data. To do this, run\n",
    "\n",
    "code/ColorMNIST/02_make_demo.py \n",
    "\n",
    "with GPU enabled (The code was only tested on GPU and may not work on CPU).\n",
    "\n",
    "This will train without any regularization and with CDEP lambda of 5000."
   ]
  },
  {
   "cell_type": "code",
   "execution_count": 4,
   "metadata": {},
   "outputs": [],
   "source": [
    "trained_model_folder = '../models/ColorMNIST_test' #the models are saved in this folder\n",
    "fnames = [oj(trained_model_folder, fname) for fname in os.listdir(trained_model_folder)]\n",
    "results_list = [pd.Series(pkl.load(open(fname, \"rb\"))) for fname in (fnames)] \n",
    "results = pd.concat(results_list, axis=1).T.infer_objects() \n",
    "results['acc_dev'] = [max(x) for x in results.accs_dev]"
   ]
  },
  {
   "cell_type": "code",
   "execution_count": 5,
   "metadata": {},
   "outputs": [
    {
     "data": {
      "text/html": [
       "<div>\n",
       "<style scoped>\n",
       "    .dataframe tbody tr th:only-of-type {\n",
       "        vertical-align: middle;\n",
       "    }\n",
       "\n",
       "    .dataframe tbody tr th {\n",
       "        vertical-align: top;\n",
       "    }\n",
       "\n",
       "    .dataframe thead th {\n",
       "        text-align: right;\n",
       "    }\n",
       "</style>\n",
       "<table border=\"1\" class=\"dataframe\">\n",
       "  <thead>\n",
       "    <tr style=\"text-align: right;\">\n",
       "      <th></th>\n",
       "      <th>regularizer_rate</th>\n",
       "      <th>acc_dev</th>\n",
       "      <th>acc_test</th>\n",
       "    </tr>\n",
       "  </thead>\n",
       "  <tbody>\n",
       "    <tr>\n",
       "      <th>0</th>\n",
       "      <td>1000.0</td>\n",
       "      <td>11.783</td>\n",
       "      <td>10.78</td>\n",
       "    </tr>\n",
       "    <tr>\n",
       "      <th>1</th>\n",
       "      <td>0.0</td>\n",
       "      <td>0.483</td>\n",
       "      <td>0.51</td>\n",
       "    </tr>\n",
       "    <tr>\n",
       "      <th>2</th>\n",
       "      <td>5000.0</td>\n",
       "      <td>34.400</td>\n",
       "      <td>33.24</td>\n",
       "    </tr>\n",
       "    <tr>\n",
       "      <th>3</th>\n",
       "      <td>1000.0</td>\n",
       "      <td>36.033</td>\n",
       "      <td>34.71</td>\n",
       "    </tr>\n",
       "    <tr>\n",
       "      <th>4</th>\n",
       "      <td>0.0</td>\n",
       "      <td>0.733</td>\n",
       "      <td>0.97</td>\n",
       "    </tr>\n",
       "    <tr>\n",
       "      <th>...</th>\n",
       "      <td>...</td>\n",
       "      <td>...</td>\n",
       "      <td>...</td>\n",
       "    </tr>\n",
       "    <tr>\n",
       "      <th>335</th>\n",
       "      <td>0.0</td>\n",
       "      <td>0.000</td>\n",
       "      <td>0.03</td>\n",
       "    </tr>\n",
       "    <tr>\n",
       "      <th>336</th>\n",
       "      <td>0.0</td>\n",
       "      <td>0.000</td>\n",
       "      <td>0.00</td>\n",
       "    </tr>\n",
       "    <tr>\n",
       "      <th>337</th>\n",
       "      <td>0.0</td>\n",
       "      <td>0.000</td>\n",
       "      <td>0.01</td>\n",
       "    </tr>\n",
       "    <tr>\n",
       "      <th>338</th>\n",
       "      <td>0.0</td>\n",
       "      <td>0.050</td>\n",
       "      <td>0.07</td>\n",
       "    </tr>\n",
       "    <tr>\n",
       "      <th>339</th>\n",
       "      <td>0.0</td>\n",
       "      <td>1.683</td>\n",
       "      <td>1.58</td>\n",
       "    </tr>\n",
       "  </tbody>\n",
       "</table>\n",
       "<p>340 rows × 3 columns</p>\n",
       "</div>"
      ],
      "text/plain": [
       "     regularizer_rate  acc_dev  acc_test\n",
       "0              1000.0   11.783     10.78\n",
       "1                 0.0    0.483      0.51\n",
       "2              5000.0   34.400     33.24\n",
       "3              1000.0   36.033     34.71\n",
       "4                 0.0    0.733      0.97\n",
       "..                ...      ...       ...\n",
       "335               0.0    0.000      0.03\n",
       "336               0.0    0.000      0.00\n",
       "337               0.0    0.000      0.01\n",
       "338               0.0    0.050      0.07\n",
       "339               0.0    1.683      1.58\n",
       "\n",
       "[340 rows x 3 columns]"
      ]
     },
     "execution_count": 5,
     "metadata": {},
     "output_type": "execute_result"
    }
   ],
   "source": [
    "results[['regularizer_rate','acc_dev','acc_test',]]"
   ]
  },
  {
   "cell_type": "markdown",
   "metadata": {},
   "source": [
    "Regularization with CDEP increases the accuracy on the (inversely biased with color) test set."
   ]
  }
 ],
 "metadata": {
  "kernelspec": {
   "display_name": "Python 3",
   "language": "python",
   "name": "python3"
  },
  "language_info": {
   "codemirror_mode": {
    "name": "ipython",
    "version": 3
   },
   "file_extension": ".py",
   "mimetype": "text/x-python",
   "name": "python",
   "nbconvert_exporter": "python",
   "pygments_lexer": "ipython3",
   "version": "3.12.3"
  }
 },
 "nbformat": 4,
 "nbformat_minor": 2
}
