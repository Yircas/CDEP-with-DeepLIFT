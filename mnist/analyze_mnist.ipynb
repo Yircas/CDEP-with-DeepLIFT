{
 "cells": [
  {
   "cell_type": "markdown",
   "metadata": {},
   "source": [
    "### Note\n",
    "- this code is also showing entry fields for EGradients and Grad for analysis, but I couldn't properly train models using those methods, so some accuracy values are missing in the statistics below"
   ]
  },
  {
   "cell_type": "code",
   "execution_count": 1,
   "metadata": {},
   "outputs": [],
   "source": [
    "%matplotlib inline\n",
    "import os\n",
    "from os.path import join as oj\n",
    "import sys, time\n",
    "import pickle as pkl\n",
    "import pandas as pd\n",
    "import seaborn as sns\n",
    "import matplotlib.pyplot as plt\n",
    "import numpy as np\n",
    "pd.set_option('display.precision', 3)"
   ]
  },
  {
   "cell_type": "code",
   "execution_count": 2,
   "metadata": {
    "scrolled": false
   },
   "outputs": [],
   "source": [
    "save_path = \"../results_for_export\"\n",
    "trained_model_folder = '../models/ColorMNIST_test'\n",
    "# trained_model_folder = '../models/ColorMNIST'\n",
    "fnames = [oj(trained_model_folder, fname) for fname in os.listdir(trained_model_folder)]\n",
    "\n",
    "results_list = [pd.Series(pkl.load(open(fname, \"rb\"))) for fname in (fnames)] \n",
    "results = pd.concat(results_list, axis=1).T.infer_objects() "
   ]
  },
  {
   "cell_type": "code",
   "execution_count": 3,
   "metadata": {},
   "outputs": [],
   "source": [
    "results['acc_dev'] = [max(x) for x in results['accs_dev']] \n",
    "results['acc_train'] = [max(x) for x in results['accs_train']]\n"
   ]
  },
  {
   "cell_type": "code",
   "execution_count": 4,
   "metadata": {},
   "outputs": [],
   "source": [
    "results.reset_index(drop=True, inplace=True)\n",
    "results_save = results[['regularizer_rate', 'acc_train' ,'acc_dev','acc_test', 'method', 'dataset']].sort_values(by = ['regularizer_rate'])"
   ]
  },
  {
   "cell_type": "code",
   "execution_count": 5,
   "metadata": {
    "scrolled": false
   },
   "outputs": [
    {
     "data": {
      "text/html": [
       "<div>\n",
       "<style scoped>\n",
       "    .dataframe tbody tr th:only-of-type {\n",
       "        vertical-align: middle;\n",
       "    }\n",
       "\n",
       "    .dataframe tbody tr th {\n",
       "        vertical-align: top;\n",
       "    }\n",
       "\n",
       "    .dataframe thead th {\n",
       "        text-align: right;\n",
       "    }\n",
       "</style>\n",
       "<table border=\"1\" class=\"dataframe\">\n",
       "  <thead>\n",
       "    <tr style=\"text-align: right;\">\n",
       "      <th></th>\n",
       "      <th></th>\n",
       "      <th></th>\n",
       "      <th>acc_train</th>\n",
       "      <th>acc_dev</th>\n",
       "      <th>acc_test</th>\n",
       "    </tr>\n",
       "    <tr>\n",
       "      <th>dataset</th>\n",
       "      <th>method</th>\n",
       "      <th>regularizer_rate</th>\n",
       "      <th></th>\n",
       "      <th></th>\n",
       "      <th></th>\n",
       "    </tr>\n",
       "  </thead>\n",
       "  <tbody>\n",
       "    <tr>\n",
       "      <th rowspan=\"6\" valign=\"top\">Color</th>\n",
       "      <th rowspan=\"4\" valign=\"top\">CDEP</th>\n",
       "      <th>0.0</th>\n",
       "      <td>100.000</td>\n",
       "      <td>0.181</td>\n",
       "      <td>0.215</td>\n",
       "    </tr>\n",
       "    <tr>\n",
       "      <th>500.0</th>\n",
       "      <td>97.630</td>\n",
       "      <td>22.150</td>\n",
       "      <td>21.656</td>\n",
       "    </tr>\n",
       "    <tr>\n",
       "      <th>1000.0</th>\n",
       "      <td>95.638</td>\n",
       "      <td>23.916</td>\n",
       "      <td>23.221</td>\n",
       "    </tr>\n",
       "    <tr>\n",
       "      <th>5000.0</th>\n",
       "      <td>83.821</td>\n",
       "      <td>29.737</td>\n",
       "      <td>29.644</td>\n",
       "    </tr>\n",
       "    <tr>\n",
       "      <th>EGradients</th>\n",
       "      <th>0.0</th>\n",
       "      <td>100.000</td>\n",
       "      <td>0.117</td>\n",
       "      <td>0.000</td>\n",
       "    </tr>\n",
       "    <tr>\n",
       "      <th>Grad</th>\n",
       "      <th>0.0</th>\n",
       "      <td>100.000</td>\n",
       "      <td>0.117</td>\n",
       "      <td>0.000</td>\n",
       "    </tr>\n",
       "  </tbody>\n",
       "</table>\n",
       "</div>"
      ],
      "text/plain": [
       "                                     acc_train  acc_dev  acc_test\n",
       "dataset method     regularizer_rate                              \n",
       "Color   CDEP       0.0                 100.000    0.181     0.215\n",
       "                   500.0                97.630   22.150    21.656\n",
       "                   1000.0               95.638   23.916    23.221\n",
       "                   5000.0               83.821   29.737    29.644\n",
       "        EGradients 0.0                 100.000    0.117     0.000\n",
       "        Grad       0.0                 100.000    0.117     0.000"
      ]
     },
     "execution_count": 5,
     "metadata": {},
     "output_type": "execute_result"
    }
   ],
   "source": [
    "concise_results = results_save.groupby(by = ['dataset', 'method','regularizer_rate']).mean()\n",
    "# concise_results.columns = ['Train accuracy','Dev accuracy', 'Test accuracy', ]\n",
    "concise_results"
   ]
  },
  {
   "cell_type": "code",
   "execution_count": 6,
   "metadata": {},
   "outputs": [
    {
     "name": "stderr",
     "output_type": "stream",
     "text": [
      "c:\\Users\\Hannes\\anaconda3\\envs\\CDEP2\\Lib\\site-packages\\seaborn\\_oldcore.py:1119: FutureWarning: use_inf_as_na option is deprecated and will be removed in a future version. Convert inf values to NaN before operating instead.\n",
      "  with pd.option_context('mode.use_inf_as_na', True):\n",
      "c:\\Users\\Hannes\\anaconda3\\envs\\CDEP2\\Lib\\site-packages\\seaborn\\_oldcore.py:1119: FutureWarning: use_inf_as_na option is deprecated and will be removed in a future version. Convert inf values to NaN before operating instead.\n",
      "  with pd.option_context('mode.use_inf_as_na', True):\n",
      "c:\\Users\\Hannes\\anaconda3\\envs\\CDEP2\\Lib\\site-packages\\seaborn\\_oldcore.py:1119: FutureWarning: use_inf_as_na option is deprecated and will be removed in a future version. Convert inf values to NaN before operating instead.\n",
      "  with pd.option_context('mode.use_inf_as_na', True):\n",
      "c:\\Users\\Hannes\\anaconda3\\envs\\CDEP2\\Lib\\site-packages\\seaborn\\_oldcore.py:1119: FutureWarning: use_inf_as_na option is deprecated and will be removed in a future version. Convert inf values to NaN before operating instead.\n",
      "  with pd.option_context('mode.use_inf_as_na', True):\n",
      "c:\\Users\\Hannes\\anaconda3\\envs\\CDEP2\\Lib\\site-packages\\seaborn\\_oldcore.py:1119: FutureWarning: use_inf_as_na option is deprecated and will be removed in a future version. Convert inf values to NaN before operating instead.\n",
      "  with pd.option_context('mode.use_inf_as_na', True):\n",
      "c:\\Users\\Hannes\\anaconda3\\envs\\CDEP2\\Lib\\site-packages\\seaborn\\_oldcore.py:1119: FutureWarning: use_inf_as_na option is deprecated and will be removed in a future version. Convert inf values to NaN before operating instead.\n",
      "  with pd.option_context('mode.use_inf_as_na', True):\n"
     ]
    },
    {
     "data": {
      "image/png": "[encoded data removed]",
      "text/plain": [
       "<Figure size 640x480 with 1 Axes>"
      ]
     },
     "metadata": {},
     "output_type": "display_data"
    }
   ],
   "source": [
    "plot = sns.lineplot(x ='regularizer_rate' , y='acc_test', data = results_save[results_save.method == 'CDEP'],label=\"CDEP\",legend = \"brief\"  );\n",
    "plot = sns.lineplot(x ='regularizer_rate' , y='acc_test', data = results_save[results_save.method == 'Grad'], label=\"RRR\" );\n",
    "plot = sns.lineplot(x ='regularizer_rate' , y='acc_test', data = results_save[results_save.method == 'ExpectedGrad'], label=\"Expected Gradients\");\n",
    "plot = sns.lineplot(x ='regularizer_rate' , y='acc_test', data = results_save[results_save.method == 'EGradients'], label=\"Expected Gradients\");\n",
    "plot.set(xscale=\"log\")\n",
    "plot.set_xlabel(\"Regularization strength\")\n",
    "plot.set_ylabel(\"Test Accuracy\")\n",
    "plot.set_title(\"\");\n",
    "fig  = plot.get_figure()\n",
    "fig.tight_layout()\n",
    "# fig.savefig(oj(save_path,\"ColorMNIST_results\"))\n",
    "plt.show()"
   ]
  },
  {
   "cell_type": "code",
   "execution_count": null,
   "metadata": {},
   "outputs": [],
   "source": []
  }
 ],
 "metadata": {
  "kernelspec": {
   "display_name": "Python 3",
   "language": "python",
   "name": "python3"
  },
  "language_info": {
   "codemirror_mode": {
    "name": "ipython",
    "version": 3
   },
   "file_extension": ".py",
   "mimetype": "text/x-python",
   "name": "python",
   "nbconvert_exporter": "python",
   "pygments_lexer": "ipython3",
   "version": "3.12.3"
  }
 },
 "nbformat": 4,
 "nbformat_minor": 2
}
